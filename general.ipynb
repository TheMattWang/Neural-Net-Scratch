{
 "cells": [
  {
   "cell_type": "markdown",
   "metadata": {},
   "source": [
    "Start of Coding the Neural Network"
   ]
  },
  {
   "cell_type": "code",
   "execution_count": 1,
   "metadata": {},
   "outputs": [],
   "source": [
    "'''\n",
    "We know that based on our images our 28 x 28 so the entry matrix is 28 x 28\n",
    "'''\n",
    "import numpy as np\n",
    "import pandas as pd"
   ]
  },
  {
   "cell_type": "markdown",
   "metadata": {},
   "source": [
    "We Can Call this Cell as the Data Processing cell for the Input layer()\n"
   ]
  },
  {
   "cell_type": "code",
   "execution_count": 61,
   "metadata": {},
   "outputs": [
    {
     "name": "stdout",
     "output_type": "stream",
     "text": [
      "Shape of the row (785,)\n",
      "row 42000 features 785\n",
      "785\n",
      "(42000, 28, 28)\n"
     ]
    }
   ],
   "source": [
    "data = pd.read_csv(\"train.csv\")\n",
    "data = np.array(data)\n",
    "rows,features = np.shape(data)\n",
    "print(\"Shape of the row\",np.shape(data[0]))\n",
    "print('row',rows,'features',features)\n",
    "print(len(data[0]))\n",
    "edited = []\n",
    "#Training set is 42199, and there is an extra row because there is a 'label' on the first row\n",
    "#Lets cut thsi down and make this a little easier to look at and process\n",
    "for x in range(len(data)):\n",
    "    temp = data[x][:784]\n",
    "    #print(\"Temp shape\",np.shape(temp))\n",
    "   # print(\"Data[x] Shape\",np.shape(data[x]))\n",
    "    yes = np.reshape(temp,(28,28))\n",
    "    edited.append(yes)\n",
    "    #print()\n",
    "print(np.shape(np.array(edited)))"
   ]
  },
  {
   "cell_type": "code",
   "execution_count": null,
   "metadata": {},
   "outputs": [],
   "source": []
  }
 ],
 "metadata": {
  "kernelspec": {
   "display_name": "realKern",
   "language": "python",
   "name": "realkern"
  },
  "language_info": {
   "codemirror_mode": {
    "name": "ipython",
    "version": 3
   },
   "file_extension": ".py",
   "mimetype": "text/x-python",
   "name": "python",
   "nbconvert_exporter": "python",
   "pygments_lexer": "ipython3",
   "version": "3.11.3"
  },
  "orig_nbformat": 4
 },
 "nbformat": 4,
 "nbformat_minor": 2
}
