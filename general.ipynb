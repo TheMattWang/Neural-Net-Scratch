{
 "cells": [
  {
   "cell_type": "markdown",
   "metadata": {},
   "source": [
    "Start of Coding the Neural Network"
   ]
  },
  {
   "cell_type": "code",
   "execution_count": 3,
   "metadata": {},
   "outputs": [],
   "source": [
    "'''\n",
    "We know that based on our images our 28 x 28 so the entry matrix is 28 x 28\n",
    "'''\n",
    "import numpy as np\n",
    "import pandas as pd"
   ]
  },
  {
   "cell_type": "markdown",
   "metadata": {},
   "source": [
    "We Can Call this Cell as the Data Processing cell for the Input layer()\n"
   ]
  },
  {
   "cell_type": "code",
   "execution_count": 4,
   "metadata": {},
   "outputs": [],
   "source": [
    "data = pd.read_csv(\"train.csv\")\n",
    "data = np.array(data)\n",
    "rows,features = np.shape(data)\n",
    "#print(\"Shape of the row\",np.shape(data[0]))\n",
    "#print('row',rows,'features',features)\n",
    "#print(len(data[0]))\n",
    "edited = []\n",
    "#Training set is 42199, and there is an extra row because there is a 'label' on the first row\n",
    "#Lets cut thsi down and make this a little easier to look at and process\n",
    "for x in range(len(data)):\n",
    "    temp = data[x][:784]\n",
    "    for p in range(len(temp)):\n",
    "        temp[p] = float(temp[p]/255)\n",
    "    yes = np.reshape(temp,(28,28))\n",
    "    edited.append(yes)\n",
    "    #print()\n"
   ]
  },
  {
   "cell_type": "code",
   "execution_count": 6,
   "metadata": {},
   "outputs": [
    {
     "name": "stdout",
     "output_type": "stream",
     "text": [
      "True\n"
     ]
    }
   ],
   "source": [
    "'''\n",
    "Just making sure my thing works and normalizes all values below zero and eventually come out iwth nice numbers\n",
    "'''\n",
    "# nonZero = False\n",
    "# for x in edited[0]:\n",
    "#     for p in x:\n",
    "#         if p > 0:\n",
    "#             nonZero = True\n",
    "#             break\n",
    "\n",
    "# print(nonZero)"
   ]
  },
  {
   "cell_type": "code",
   "execution_count": null,
   "metadata": {},
   "outputs": [],
   "source": [
    "'''\n",
    "Now we need to set up the other vectors outside of the entire network\n",
    "'''\n"
   ]
  },
  {
   "cell_type": "markdown",
   "metadata": {},
   "source": [
    "\n",
    "# Foward Propogation\n",
    "    \n",
    "1. In foward propogation these are the two main functions needed: 1 to calculate the layer and the activation function to see what the next set of things that are activated are\n",
    "2. Then each layer can now be represented as a column matrix\n"
   ]
  },
  {
   "cell_type": "code",
   "execution_count": 9,
   "metadata": {},
   "outputs": [],
   "source": [
    "def rectified_linear(input_vector):\n",
    "    return max(0,input_vector)"
   ]
  },
  {
   "cell_type": "code",
   "execution_count": 11,
   "metadata": {},
   "outputs": [],
   "source": [
    "def general_calculation(input_vector, weights_vector, bias):\n",
    "    return input_vector * weights_vector + bias"
   ]
  },
  {
   "cell_type": "code",
   "execution_count": 12,
   "metadata": {},
   "outputs": [],
   "source": [
    "def sigmoid(input_vector):\n",
    "    return (1)/(1 + np.e ** (input_vector))"
   ]
  },
  {
   "cell_type": "markdown",
   "metadata": {},
   "source": [
    "\n",
    "# Backward Propogation\n",
    "    \n",
    "1. We essentially want to correct our weight_vector and bias vector every single time we enter it so that the probabilities are more alligned with the training set\n",
    "2. Then each layer can now be represented as a column matrix\n"
   ]
  },
  {
   "cell_type": "code",
   "execution_count": null,
   "metadata": {},
   "outputs": [],
   "source": [
    "def error_correction()"
   ]
  }
 ],
 "metadata": {
  "kernelspec": {
   "display_name": "realKern",
   "language": "python",
   "name": "realkern"
  },
  "language_info": {
   "codemirror_mode": {
    "name": "ipython",
    "version": 3
   },
   "file_extension": ".py",
   "mimetype": "text/x-python",
   "name": "python",
   "nbconvert_exporter": "python",
   "pygments_lexer": "ipython3",
   "version": "3.11.3"
  },
  "orig_nbformat": 4
 },
 "nbformat": 4,
 "nbformat_minor": 2
}
