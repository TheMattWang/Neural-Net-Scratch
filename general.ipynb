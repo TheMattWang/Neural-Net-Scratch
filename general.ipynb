{
 "cells": [
  {
   "cell_type": "markdown",
   "metadata": {},
   "source": [
    "Start of Coding the Neural Network"
   ]
  },
  {
   "cell_type": "code",
   "execution_count": 1,
   "metadata": {},
   "outputs": [],
   "source": [
    "'''\n",
    "We know that based on our images our 28 x 28 so the entry matrix is 28 x 28\n",
    "'''\n",
    "import numpy as np\n",
    "import pandas as pd"
   ]
  },
  {
   "cell_type": "markdown",
   "metadata": {},
   "source": [
    "We Can Call this Cell as the Data Processing cell for the Input layer()\n"
   ]
  },
  {
   "cell_type": "code",
   "execution_count": 39,
   "metadata": {},
   "outputs": [
    {
     "name": "stdout",
     "output_type": "stream",
     "text": [
      "row 42000 features 785\n",
      "785\n",
      "784\n"
     ]
    },
    {
     "ename": "ValueError",
     "evalue": "could not broadcast input array from shape (28,28) into shape (785,)",
     "output_type": "error",
     "traceback": [
      "\u001b[0;31m---------------------------------------------------------------------------\u001b[0m",
      "\u001b[0;31mValueError\u001b[0m                                Traceback (most recent call last)",
      "\u001b[1;32m/Users/mattwang/Documents/personal_proj/Neural-Net-Scratch/general.ipynb Cell 4\u001b[0m line \u001b[0;36m1\n\u001b[1;32m      <a href='vscode-notebook-cell:/Users/mattwang/Documents/personal_proj/Neural-Net-Scratch/general.ipynb#W6sZmlsZQ%3D%3D?line=8'>9</a>\u001b[0m temp \u001b[39m=\u001b[39m data[x][:\u001b[39m784\u001b[39m]\n\u001b[1;32m     <a href='vscode-notebook-cell:/Users/mattwang/Documents/personal_proj/Neural-Net-Scratch/general.ipynb#W6sZmlsZQ%3D%3D?line=9'>10</a>\u001b[0m \u001b[39mprint\u001b[39m(\u001b[39mlen\u001b[39m(temp))\n\u001b[0;32m---> <a href='vscode-notebook-cell:/Users/mattwang/Documents/personal_proj/Neural-Net-Scratch/general.ipynb#W6sZmlsZQ%3D%3D?line=10'>11</a>\u001b[0m data[x] \u001b[39m=\u001b[39m np\u001b[39m.\u001b[39mreshape(data[x][\u001b[39m0\u001b[39m:\u001b[39m784\u001b[39m],(\u001b[39m28\u001b[39m,\u001b[39m28\u001b[39m))\n",
      "\u001b[0;31mValueError\u001b[0m: could not broadcast input array from shape (28,28) into shape (785,)"
     ]
    }
   ],
   "source": [
    "data = pd.read_csv(\"train.csv\")\n",
    "data = np.array(data)\n",
    "rows,features = np.shape(data)\n",
    "print('row',rows,'features',features)\n",
    "print(len(data[0]))\n",
    "#Training set is 42199, and there is an extra row because there is a 'label' on the first row\n",
    "#Lets cut thsi down and make this a little easier to look at and process\n",
    "for x in range(len(data)):\n",
    "    temp = data[x][:784]\n",
    "    print(len(temp))\n",
    "    data[x] = np.reshape(data[x][0:784],(28,28))"
   ]
  },
  {
   "cell_type": "code",
   "execution_count": null,
   "metadata": {},
   "outputs": [],
   "source": []
  }
 ],
 "metadata": {
  "kernelspec": {
   "display_name": "realKern",
   "language": "python",
   "name": "realkern"
  },
  "language_info": {
   "codemirror_mode": {
    "name": "ipython",
    "version": 3
   },
   "file_extension": ".py",
   "mimetype": "text/x-python",
   "name": "python",
   "nbconvert_exporter": "python",
   "pygments_lexer": "ipython3",
   "version": "3.11.3"
  },
  "orig_nbformat": 4
 },
 "nbformat": 4,
 "nbformat_minor": 2
}
